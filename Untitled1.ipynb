{
  "nbformat": 4,
  "nbformat_minor": 0,
  "metadata": {
    "colab": {
      "name": "Untitled1.ipynb",
      "provenance": [],
      "authorship_tag": "ABX9TyN+nwjyAVp1dUTCcbH/af1x",
      "include_colab_link": true
    },
    "kernelspec": {
      "name": "python3",
      "display_name": "Python 3"
    }
  },
  "cells": [
    {
      "cell_type": "markdown",
      "metadata": {
        "id": "view-in-github",
        "colab_type": "text"
      },
      "source": [
        "<a href=\"https://colab.research.google.com/github/EricoCoutoJr/ANP/blob/master/Untitled1.ipynb\" target=\"_parent\"><img src=\"https://colab.research.google.com/assets/colab-badge.svg\" alt=\"Open In Colab\"/></a>"
      ]
    },
    {
      "cell_type": "markdown",
      "metadata": {
        "id": "EYS7mJ-tZP01",
        "colab_type": "text"
      },
      "source": [
        "# Exemplo de uso da Biblioteca **TWINT**\n",
        "# Scraping with TWINT library\n",
        "---\n",
        "### Esta biblioteca escrita em Python permite a extração (SCRAPING) no Twitter sem uso da API. Esta ferramenta permite que você extrais twitters com usuário, assunto, hashtegs espeícficos ou links, telefones, e-mails. Com ela podemos, também, definir período da coleta de dados, quantidade de registros eoutras informações. Também temos acesso informaçãos como: likes, retwitters, cashtags, replays e outros dados contidos em twitters.\n",
        "![891.jpg](891.jpg)"
      ]
    },
    {
      "cell_type": "code",
      "metadata": {
        "id": "sPTZUpmS21NM",
        "colab_type": "code",
        "colab": {}
      },
      "source": [
        "!pip install twint"
      ],
      "execution_count": null,
      "outputs": []
    },
    {
      "cell_type": "markdown",
      "metadata": {
        "id": "ea-meICn6MwU",
        "colab_type": "text"
      },
      "source": [
        "\n",
        "É necessário instalara e reiniciar o ambinete de trabalo para usar o Twint. É aconselhavel usar o ambiente do Google Colab para evitar falhas no Jupyter Lab.\n"
      ]
    },
    {
      "cell_type": "code",
      "metadata": {
        "id": "FEgjbU7T3OWW",
        "colab_type": "code",
        "colab": {}
      },
      "source": [
        "import twint"
      ],
      "execution_count": 24,
      "outputs": []
    },
    {
      "cell_type": "code",
      "metadata": {
        "id": "dXrfk9Fa3R2M",
        "colab_type": "code",
        "colab": {}
      },
      "source": [
        "a = twint.Config()\n",
        "a.Search = \"Data Science\"\n",
        "a.Location = 'Brasil'\n",
        "a.Limit = 40\n",
        "a.Store_csv = True\n",
        "a.Output = \"DS.csv\"\n",
        "twint.run.Search(a)"
      ],
      "execution_count": null,
      "outputs": []
    },
    {
      "cell_type": "code",
      "metadata": {
        "id": "JqPR61gb4TSk",
        "colab_type": "code",
        "colab": {
          "base_uri": "https://localhost:8080/",
          "height": 134
        },
        "outputId": "6dca1cd4-4510-42de-fe8c-035960e5428d"
      },
      "source": [
        "import pandas as pd\n",
        "df = pd.read_csv(\"DS.csv\")\n",
        "df.columns"
      ],
      "execution_count": 33,
      "outputs": [
        {
          "output_type": "execute_result",
          "data": {
            "text/plain": [
              "Index(['id', 'conversation_id', 'created_at', 'date', 'time', 'timezone',\n",
              "       'user_id', 'username', 'name', 'place', 'tweet', 'mentions', 'urls',\n",
              "       'photos', 'replies_count', 'retweets_count', 'likes_count', 'hashtags',\n",
              "       'cashtags', 'link', 'retweet', 'quote_url', 'video', 'near', 'geo',\n",
              "       'source', 'user_rt_id', 'user_rt', 'retweet_id', 'reply_to',\n",
              "       'retweet_date', 'translate', 'trans_src', 'trans_dest'],\n",
              "      dtype='object')"
            ]
          },
          "metadata": {
            "tags": []
          },
          "execution_count": 33
        }
      ]
    },
    {
      "cell_type": "code",
      "metadata": {
        "id": "2KuvUlW7S-mK",
        "colab_type": "code",
        "colab": {
          "base_uri": "https://localhost:8080/",
          "height": 383
        },
        "outputId": "dd3255d4-7ee6-4ac6-fc29-6eb1f1617bcd"
      },
      "source": [
        "df.head()"
      ],
      "execution_count": 34,
      "outputs": [
        {
          "output_type": "execute_result",
          "data": {
            "text/html": [
              "<div>\n",
              "<style scoped>\n",
              "    .dataframe tbody tr th:only-of-type {\n",
              "        vertical-align: middle;\n",
              "    }\n",
              "\n",
              "    .dataframe tbody tr th {\n",
              "        vertical-align: top;\n",
              "    }\n",
              "\n",
              "    .dataframe thead th {\n",
              "        text-align: right;\n",
              "    }\n",
              "</style>\n",
              "<table border=\"1\" class=\"dataframe\">\n",
              "  <thead>\n",
              "    <tr style=\"text-align: right;\">\n",
              "      <th></th>\n",
              "      <th>id</th>\n",
              "      <th>conversation_id</th>\n",
              "      <th>created_at</th>\n",
              "      <th>date</th>\n",
              "      <th>time</th>\n",
              "      <th>timezone</th>\n",
              "      <th>user_id</th>\n",
              "      <th>username</th>\n",
              "      <th>name</th>\n",
              "      <th>place</th>\n",
              "      <th>tweet</th>\n",
              "      <th>mentions</th>\n",
              "      <th>urls</th>\n",
              "      <th>photos</th>\n",
              "      <th>replies_count</th>\n",
              "      <th>retweets_count</th>\n",
              "      <th>likes_count</th>\n",
              "      <th>hashtags</th>\n",
              "      <th>cashtags</th>\n",
              "      <th>link</th>\n",
              "      <th>retweet</th>\n",
              "      <th>quote_url</th>\n",
              "      <th>video</th>\n",
              "      <th>near</th>\n",
              "      <th>geo</th>\n",
              "      <th>source</th>\n",
              "      <th>user_rt_id</th>\n",
              "      <th>user_rt</th>\n",
              "      <th>retweet_id</th>\n",
              "      <th>reply_to</th>\n",
              "      <th>retweet_date</th>\n",
              "      <th>translate</th>\n",
              "      <th>trans_src</th>\n",
              "      <th>trans_dest</th>\n",
              "    </tr>\n",
              "  </thead>\n",
              "  <tbody>\n",
              "    <tr>\n",
              "      <th>0</th>\n",
              "      <td>1297580001286656000</td>\n",
              "      <td>1297580001286656000</td>\n",
              "      <td>1598202154000</td>\n",
              "      <td>2020-08-23</td>\n",
              "      <td>17:02:34</td>\n",
              "      <td>UTC</td>\n",
              "      <td>100793265</td>\n",
              "      <td>metamorf_us</td>\n",
              "      <td>Patrick Walker, MPA 🐺</td>\n",
              "      <td>NaN</td>\n",
              "      <td>#Analyticship:#BI,#ML,#AI,#BigData,#Analytics,...</td>\n",
              "      <td>[]</td>\n",
              "      <td>['https://www.datasciencecentral.com/profiles/...</td>\n",
              "      <td>[]</td>\n",
              "      <td>0</td>\n",
              "      <td>1</td>\n",
              "      <td>0</td>\n",
              "      <td>['#analyticship', '#bi', '#ml', '#ai', '#bigda...</td>\n",
              "      <td>[]</td>\n",
              "      <td>https://twitter.com/METAMORF_US/status/1297580...</td>\n",
              "      <td>False</td>\n",
              "      <td>NaN</td>\n",
              "      <td>0</td>\n",
              "      <td>NaN</td>\n",
              "      <td>NaN</td>\n",
              "      <td>NaN</td>\n",
              "      <td>NaN</td>\n",
              "      <td>NaN</td>\n",
              "      <td>NaN</td>\n",
              "      <td>[{'user_id': '100793265', 'username': 'METAMOR...</td>\n",
              "      <td>NaN</td>\n",
              "      <td>NaN</td>\n",
              "      <td>NaN</td>\n",
              "      <td>NaN</td>\n",
              "    </tr>\n",
              "    <tr>\n",
              "      <th>1</th>\n",
              "      <td>1297579885364498433</td>\n",
              "      <td>1297550245933404160</td>\n",
              "      <td>1598202127000</td>\n",
              "      <td>2020-08-23</td>\n",
              "      <td>17:02:07</td>\n",
              "      <td>UTC</td>\n",
              "      <td>799971866920120320</td>\n",
              "      <td>tonychis1991</td>\n",
              "      <td>3161991</td>\n",
              "      <td>NaN</td>\n",
              "      <td>Where in U.S. Constitution does it say our Rig...</td>\n",
              "      <td>['richardgrenell', 'nedryun']</td>\n",
              "      <td>[]</td>\n",
              "      <td>[]</td>\n",
              "      <td>0</td>\n",
              "      <td>0</td>\n",
              "      <td>0</td>\n",
              "      <td>[]</td>\n",
              "      <td>[]</td>\n",
              "      <td>https://twitter.com/TonyChis1991/status/129757...</td>\n",
              "      <td>False</td>\n",
              "      <td>NaN</td>\n",
              "      <td>0</td>\n",
              "      <td>NaN</td>\n",
              "      <td>NaN</td>\n",
              "      <td>NaN</td>\n",
              "      <td>NaN</td>\n",
              "      <td>NaN</td>\n",
              "      <td>NaN</td>\n",
              "      <td>[{'user_id': '799971866920120320', 'username':...</td>\n",
              "      <td>NaN</td>\n",
              "      <td>NaN</td>\n",
              "      <td>NaN</td>\n",
              "      <td>NaN</td>\n",
              "    </tr>\n",
              "    <tr>\n",
              "      <th>2</th>\n",
              "      <td>1297579881283424259</td>\n",
              "      <td>1297578492788342784</td>\n",
              "      <td>1598202126000</td>\n",
              "      <td>2020-08-23</td>\n",
              "      <td>17:02:06</td>\n",
              "      <td>UTC</td>\n",
              "      <td>946714989280288768</td>\n",
              "      <td>science_fly</td>\n",
              "      <td>Science fly</td>\n",
              "      <td>NaN</td>\n",
              "      <td>¿Esa información lo habrán logrado repitiendo ...</td>\n",
              "      <td>['pinabertoglia']</td>\n",
              "      <td>[]</td>\n",
              "      <td>[]</td>\n",
              "      <td>0</td>\n",
              "      <td>0</td>\n",
              "      <td>0</td>\n",
              "      <td>[]</td>\n",
              "      <td>[]</td>\n",
              "      <td>https://twitter.com/science_fly/status/1297579...</td>\n",
              "      <td>False</td>\n",
              "      <td>NaN</td>\n",
              "      <td>0</td>\n",
              "      <td>NaN</td>\n",
              "      <td>NaN</td>\n",
              "      <td>NaN</td>\n",
              "      <td>NaN</td>\n",
              "      <td>NaN</td>\n",
              "      <td>NaN</td>\n",
              "      <td>[{'user_id': '946714989280288768', 'username':...</td>\n",
              "      <td>NaN</td>\n",
              "      <td>NaN</td>\n",
              "      <td>NaN</td>\n",
              "      <td>NaN</td>\n",
              "    </tr>\n",
              "    <tr>\n",
              "      <th>3</th>\n",
              "      <td>1297579738110795777</td>\n",
              "      <td>1297579738110795777</td>\n",
              "      <td>1598202092000</td>\n",
              "      <td>2020-08-23</td>\n",
              "      <td>17:01:32</td>\n",
              "      <td>UTC</td>\n",
              "      <td>100793265</td>\n",
              "      <td>metamorf_us</td>\n",
              "      <td>Patrick Walker, MPA 🐺</td>\n",
              "      <td>NaN</td>\n",
              "      <td>#Analyticship:#BI,#ML,#AI,#BigData,#Analytics,...</td>\n",
              "      <td>[]</td>\n",
              "      <td>['https://analyticstransformation.blogspot.com...</td>\n",
              "      <td>[]</td>\n",
              "      <td>0</td>\n",
              "      <td>0</td>\n",
              "      <td>0</td>\n",
              "      <td>['#analyticship', '#bi', '#ml', '#ai', '#bigda...</td>\n",
              "      <td>[]</td>\n",
              "      <td>https://twitter.com/METAMORF_US/status/1297579...</td>\n",
              "      <td>False</td>\n",
              "      <td>NaN</td>\n",
              "      <td>0</td>\n",
              "      <td>NaN</td>\n",
              "      <td>NaN</td>\n",
              "      <td>NaN</td>\n",
              "      <td>NaN</td>\n",
              "      <td>NaN</td>\n",
              "      <td>NaN</td>\n",
              "      <td>[{'user_id': '100793265', 'username': 'METAMOR...</td>\n",
              "      <td>NaN</td>\n",
              "      <td>NaN</td>\n",
              "      <td>NaN</td>\n",
              "      <td>NaN</td>\n",
              "    </tr>\n",
              "    <tr>\n",
              "      <th>4</th>\n",
              "      <td>1297579661392846848</td>\n",
              "      <td>1297579661392846848</td>\n",
              "      <td>1598202073000</td>\n",
              "      <td>2020-08-23</td>\n",
              "      <td>17:01:13</td>\n",
              "      <td>UTC</td>\n",
              "      <td>100793265</td>\n",
              "      <td>metamorf_us</td>\n",
              "      <td>Patrick Walker, MPA 🐺</td>\n",
              "      <td>NaN</td>\n",
              "      <td>#Analyticship:#BI,#ML,#AI,#BigData,#Analytics,...</td>\n",
              "      <td>[]</td>\n",
              "      <td>['https://www.datasciencecentral.com/profiles/...</td>\n",
              "      <td>[]</td>\n",
              "      <td>0</td>\n",
              "      <td>0</td>\n",
              "      <td>0</td>\n",
              "      <td>['#analyticship', '#bi', '#ml', '#ai', '#bigda...</td>\n",
              "      <td>[]</td>\n",
              "      <td>https://twitter.com/METAMORF_US/status/1297579...</td>\n",
              "      <td>False</td>\n",
              "      <td>NaN</td>\n",
              "      <td>0</td>\n",
              "      <td>NaN</td>\n",
              "      <td>NaN</td>\n",
              "      <td>NaN</td>\n",
              "      <td>NaN</td>\n",
              "      <td>NaN</td>\n",
              "      <td>NaN</td>\n",
              "      <td>[{'user_id': '100793265', 'username': 'METAMOR...</td>\n",
              "      <td>NaN</td>\n",
              "      <td>NaN</td>\n",
              "      <td>NaN</td>\n",
              "      <td>NaN</td>\n",
              "    </tr>\n",
              "  </tbody>\n",
              "</table>\n",
              "</div>"
            ],
            "text/plain": [
              "                    id      conversation_id  ...  trans_src trans_dest\n",
              "0  1297580001286656000  1297580001286656000  ...        NaN        NaN\n",
              "1  1297579885364498433  1297550245933404160  ...        NaN        NaN\n",
              "2  1297579881283424259  1297578492788342784  ...        NaN        NaN\n",
              "3  1297579738110795777  1297579738110795777  ...        NaN        NaN\n",
              "4  1297579661392846848  1297579661392846848  ...        NaN        NaN\n",
              "\n",
              "[5 rows x 34 columns]"
            ]
          },
          "metadata": {
            "tags": []
          },
          "execution_count": 34
        }
      ]
    },
    {
      "cell_type": "code",
      "metadata": {
        "id": "eyqj5jwdVnYP",
        "colab_type": "code",
        "colab": {}
      },
      "source": [
        ""
      ],
      "execution_count": null,
      "outputs": []
    },
    {
      "cell_type": "markdown",
      "metadata": {
        "id": "IqjYQiyIZN6r",
        "colab_type": "text"
      },
      "source": [
        ""
      ]
    }
  ]
}